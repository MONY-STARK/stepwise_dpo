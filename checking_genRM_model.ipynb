{
 "cells": [
  {
   "cell_type": "markdown",
   "id": "eb702217",
   "metadata": {},
   "source": [
    "This Script is to test and see if the open-source model, i choose (Zephur-7b-beta) for act as an GenRM (Generative Reward model) is doing a good job as it should"
   ]
  },
  {
   "cell_type": "code",
   "execution_count": 2,
   "id": "704cec8f",
   "metadata": {},
   "outputs": [],
   "source": [
    "from transformers import AutoModelForCausalLM, AutoTokenizer\n",
    "import torch\n",
    "import re\n"
   ]
  },
  {
   "cell_type": "code",
   "execution_count": 3,
   "id": "545910be",
   "metadata": {},
   "outputs": [],
   "source": [
    "# Use CUDA if available\n",
    "device = torch.device(\"cuda\" if torch.cuda.is_available() else \"cpu\")"
   ]
  },
  {
   "cell_type": "code",
   "execution_count": 19,
   "id": "14cf8e8e",
   "metadata": {},
   "outputs": [
    {
     "name": "stderr",
     "output_type": "stream",
     "text": [
      "Loading checkpoint shards: 100%|██████████| 8/8 [00:01<00:00,  4.15it/s]\n",
      "Some parameters are on the meta device because they were offloaded to the disk and cpu.\n"
     ]
    }
   ],
   "source": [
    "# Load model and tokenizer (quantization optional if using large models)\n",
    "model_id = \"zephyr-7b-beta\"\n",
    "\n",
    "# Load with proper device and precision (float16 for GPU efficiency)\n",
    "model = AutoModelForCausalLM.from_pretrained(\n",
    "    model_id,\n",
    "    torch_dtype=torch.float16,\n",
    "    device_map=\"auto\"  # Automatically maps layers across GPU(s)\n",
    ")"
   ]
  },
  {
   "cell_type": "code",
   "execution_count": 20,
   "id": "bb2c4226",
   "metadata": {},
   "outputs": [],
   "source": [
    "\n",
    "tokenizer = AutoTokenizer.from_pretrained(model_id,\n",
    "                                           use_fast=False)\n"
   ]
  },
  {
   "cell_type": "code",
   "execution_count": 21,
   "id": "9e853545",
   "metadata": {},
   "outputs": [],
   "source": [
    "# Evaluation prompt\n",
    "prompt = \"\"\"You are a helpful math tutor.\n",
    "\n",
    "The student is solving the problem:\n",
    "\"Three pencils and a jumbo eraser cost $1.24. Five pencils and a jumbo eraser cost $1.82. What is the cost of a pencil in cents?\"\n",
    "\n",
    "Here is the student's step:\n",
    "\"To solve this system, let's subtract the first equation from the second equation. This will eliminate e.\"\n",
    "\n",
    "Rate this step on a scale of 1 to 5, based on:\n",
    "- Correctness\n",
    "- Usefulness toward solving the problem\n",
    "- Clarity\n",
    "\n",
    "Just return the score (1 to 5) and nothing else.\n",
    "Answer:\"\"\""
   ]
  },
  {
   "cell_type": "code",
   "execution_count": 22,
   "id": "4fc0670c",
   "metadata": {},
   "outputs": [],
   "source": [
    "# Evaluation prompt\n",
    "prompt2= \"what is captial of china\""
   ]
  },
  {
   "cell_type": "code",
   "execution_count": 23,
   "id": "bfe61737",
   "metadata": {},
   "outputs": [],
   "source": [
    "# Tokenize input prompt\n",
    "inputs = tokenizer(prompt, return_tensors=\"pt\").to(device)"
   ]
  },
  {
   "cell_type": "code",
   "execution_count": 24,
   "id": "7bca3bd2",
   "metadata": {},
   "outputs": [
    {
     "name": "stderr",
     "output_type": "stream",
     "text": [
      "Setting `pad_token_id` to `eos_token_id`:2 for open-end generation.\n"
     ]
    }
   ],
   "source": [
    "# Generate response (limit to 5 new tokens to avoid extra commentary)\n",
    "outputs = model.generate(\n",
    "    **inputs,\n",
    "    max_new_tokens=1000,\n",
    "    do_sample=False  # deterministic output (optional)\n",
    ")\n"
   ]
  },
  {
   "cell_type": "code",
   "execution_count": 25,
   "id": "76dd84bb",
   "metadata": {},
   "outputs": [
    {
     "name": "stdout",
     "output_type": "stream",
     "text": [
      "Model output: You are a helpful math tutor.\n",
      "\n",
      "The student is solving the problem:\n",
      "\"Three pencils and a jumbo eraser cost $1.24. Five pencils and a jumbo eraser cost $1.82. What is the cost of a pencil in cents?\"\n",
      "\n",
      "Here is the student's step:\n",
      "\"To solve this system, let's subtract the first equation from the second equation. This will eliminate e.\"\n",
      "\n",
      "Rate this step on a scale of 1 to 5, based on:\n",
      "- Correctness\n",
      "- Usefulness toward solving the problem\n",
      "- Clarity\n",
      "\n",
      "Just return the score (1 to 5) and nothing else.\n",
      "Answer: 5\n"
     ]
    }
   ],
   "source": [
    "# Decode output\n",
    "decoded = tokenizer.decode(outputs[0], skip_special_tokens=True)\n",
    "print(\"Model output:\", decoded)"
   ]
  },
  {
   "cell_type": "markdown",
   "id": "1d64df2b",
   "metadata": {},
   "source": [
    "Seems like this model is doing good job, so i am choosing it\n",
    "\n",
    "Note : zephyr-7b-beta is chosen after tested other open-souce models\n"
   ]
  }
 ],
 "metadata": {
  "kernelspec": {
   "display_name": "venv",
   "language": "python",
   "name": "python3"
  },
  "language_info": {
   "codemirror_mode": {
    "name": "ipython",
    "version": 3
   },
   "file_extension": ".py",
   "mimetype": "text/x-python",
   "name": "python",
   "nbconvert_exporter": "python",
   "pygments_lexer": "ipython3",
   "version": "3.12.3"
  }
 },
 "nbformat": 4,
 "nbformat_minor": 5
}
