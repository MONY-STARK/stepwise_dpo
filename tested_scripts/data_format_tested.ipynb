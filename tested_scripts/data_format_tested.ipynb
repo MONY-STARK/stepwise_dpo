{
 "cells": [
  {
   "cell_type": "code",
   "execution_count": 3,
   "id": "b284e40f",
   "metadata": {},
   "outputs": [],
   "source": [
    "data_path = \"prm800k/prm800k/data/phase1_train.jsonl\""
   ]
  },
  {
   "cell_type": "code",
   "execution_count": 31,
   "id": "7ea5fc64",
   "metadata": {},
   "outputs": [],
   "source": [
    "import json\n",
    "\n",
    "with open(data_path, 'r', encoding='utf-8') as f:\n",
    "    dataset = [json.loads(line) for line in f]\n"
   ]
  },
  {
   "cell_type": "code",
   "execution_count": null,
   "id": "50f248c6",
   "metadata": {},
   "outputs": [
    {
     "data": {
      "text/plain": [
       "{'labeler': 'e90a38f3-3135-4465-87af-3e6322e3d772',\n",
       " 'timestamp': '2022-07-13T18:55:54.496450',\n",
       " 'generation': None,\n",
       " 'is_quality_control_question': False,\n",
       " 'is_initial_screening_question': False,\n",
       " 'question': {'problem': 'How many seconds are in 7.8 minutes?',\n",
       "  'ground_truth_answer': '468'},\n",
       " 'label': {'steps': [{'completions': [{'text': '7.8 minutes is the same as 7 minutes and 0.8 minutes.',\n",
       "      'rating': 1,\n",
       "      'flagged': False}],\n",
       "    'human_completion': None,\n",
       "    'chosen_completion': 0},\n",
       "   {'completions': [{'text': 'Right, and since there are 60 seconds in a minute, then there are 60 * 7 = 420 seconds in 7 minutes.',\n",
       "      'rating': 1,\n",
       "      'flagged': False}],\n",
       "    'human_completion': None,\n",
       "    'chosen_completion': 0},\n",
       "   {'completions': [{'text': 'And since there are 60 seconds in a minute, then there are 60 * 0.8 = 48 seconds in 0.8 minutes.',\n",
       "      'rating': 1,\n",
       "      'flagged': False}],\n",
       "    'human_completion': None,\n",
       "    'chosen_completion': 0},\n",
       "   {'completions': [{'text': 'So, in total, there are 420 + 48 = 468 seconds in 7.8 minutes.',\n",
       "      'rating': 1,\n",
       "      'flagged': False}],\n",
       "    'human_completion': None,\n",
       "    'chosen_completion': 0},\n",
       "   {'completions': [{'text': \"Right. Let's check our work. 7.8 minutes is the same as 7 minutes and 0.8 minutes.\",\n",
       "      'rating': 0,\n",
       "      'flagged': False},\n",
       "     {'text': 'Exactly.\\n\\n# Answer\\n\\n468', 'rating': 1, 'flagged': False},\n",
       "     {'text': \"That's correct.\\n\\n# Answer\\n\\n468\",\n",
       "      'rating': 1,\n",
       "      'flagged': False},\n",
       "     {'text': 'Correct.\\n\\n# Answer\\n\\n468', 'rating': 1, 'flagged': False},\n",
       "     {'text': \"That's correct.\\n\\n# Answer\\n\\n468\",\n",
       "      'rating': 1,\n",
       "      'flagged': False},\n",
       "     {'text': 'Correct.\\n\\n# Answer\\n\\n468', 'rating': 1, 'flagged': False},\n",
       "     {'text': \"That's right!\\n\\n# Answer\\n\\n468\",\n",
       "      'rating': 1,\n",
       "      'flagged': False}],\n",
       "    'human_completion': None,\n",
       "    'chosen_completion': 1}],\n",
       "  'total_time': 92405,\n",
       "  'finish_reason': 'solution'}}"
      ]
     },
     "execution_count": 10,
     "metadata": {},
     "output_type": "execute_result"
    }
   ],
   "source": [
    "d = dataset[0]"
   ]
  },
  {
   "cell_type": "code",
   "execution_count": 57,
   "id": "1884a681",
   "metadata": {},
   "outputs": [
    {
     "name": "stdout",
     "output_type": "stream",
     "text": [
      "<class 'list'>\n"
     ]
    },
    {
     "ename": "AttributeError",
     "evalue": "'str' object has no attribute 'text'",
     "output_type": "error",
     "traceback": [
      "\u001b[31m---------------------------------------------------------------------------\u001b[39m",
      "\u001b[31mAttributeError\u001b[39m                            Traceback (most recent call last)",
      "\u001b[36mCell\u001b[39m\u001b[36m \u001b[39m\u001b[32mIn[57]\u001b[39m\u001b[32m, line 10\u001b[39m\n\u001b[32m      8\u001b[39m \u001b[33m\"\u001b[39m\u001b[33my = [\u001b[39m\u001b[33m{\u001b[39m\u001b[33m'\u001b[39m\u001b[33mtext\u001b[39m\u001b[33m'\u001b[39m\u001b[33m: \u001b[39m\u001b[33m'\u001b[39m\u001b[33m7.8 minutes is the same as 7 minutes and 0.8 minutes.\u001b[39m\u001b[33m'\u001b[39m\u001b[33m, \u001b[39m\u001b[33m'\u001b[39m\u001b[33mrating\u001b[39m\u001b[33m'\u001b[39m\u001b[33m: 1, \u001b[39m\u001b[33m'\u001b[39m\u001b[33mflagged\u001b[39m\u001b[33m'\u001b[39m\u001b[33m: False}]\u001b[39m\u001b[33m\"\u001b[39m\n\u001b[32m      9\u001b[39m \u001b[38;5;28;01mfor\u001b[39;00m t \u001b[38;5;129;01min\u001b[39;00m y[\u001b[32m0\u001b[39m]:\n\u001b[32m---> \u001b[39m\u001b[32m10\u001b[39m     \u001b[38;5;28mprint\u001b[39m(\u001b[43mt\u001b[49m\u001b[43m.\u001b[49m\u001b[43mtext\u001b[49m)\n",
      "\u001b[31mAttributeError\u001b[39m: 'str' object has no attribute 'text'"
     ]
    }
   ],
   "source": [
    "for data in dataset[:3]:\n",
    "    question = data['question'][\"problem\"]\n",
    "    steps = []\n",
    "    completions = data['label']['steps']\n",
    "    print(type(completions))\n",
    "    for completion in completions:\n",
    "        for k, y in completion.items():\n",
    "            \"y = [{'text': '7.8 minutes is the same as 7 minutes and 0.8 minutes.', 'rating': 1, 'flagged': False}]\"\n",
    "            for t in y[0]:\n",
    "                print(t.text)"
   ]
  },
  {
   "cell_type": "code",
   "execution_count": 63,
   "id": "3c305246",
   "metadata": {},
   "outputs": [
    {
     "name": "stdout",
     "output_type": "stream",
     "text": [
      "Q: How many seconds are in 7.8 minutes?\n",
      "  Step 1: 7.8 minutes is the same as 7 minutes and 0.8 minutes.\n",
      "  Step 2: Right, and since there are 60 seconds in a minute, then there are 60 * 7 = 420 seconds in 7 minutes.\n",
      "  Step 3: And since there are 60 seconds in a minute, then there are 60 * 0.8 = 48 seconds in 0.8 minutes.\n",
      "  Step 4: So, in total, there are 420 + 48 = 468 seconds in 7.8 minutes.\n",
      "  Step 5: Exactly.\n",
      "\n",
      "# Answer\n",
      "\n",
      "468\n",
      "----------------------------------------\n",
      "Q: How many positive two-digit integers leave a remainder of 2 when divided by 8?\n",
      "  Step 1: So if a number leaves a remainder of 2 when divided by 8, it's of the form 8n+2.\n",
      "  Step 2: So we want to know the number of positive two-digit integers of the form 8n+2.\n",
      "  Step 3: I think we should just plug in numbers and see what happens.\n",
      "  Step 4: Ok let's start with n=1.\n",
      "  Step 5: 8*1+2=10 which is a two-digit integer.\n",
      "  Step 6: Let's try n=2.\n",
      "  Step 7: 8*2+2=18 which is also a two-digit integer.\n",
      "  Step 8: That would be n=13.\n",
      "  Step 9: Because 8*13+2=106.\n",
      "  Step 10: So the number of positive two-digit integers of the form 8n+2 is 12.\n",
      "\n",
      "# Answer\n",
      "\n",
      "12\n",
      "----------------------------------------\n",
      "Q: The fifth and eighth terms of a geometric sequence of real numbers are $7!$ and $8!$ respectively. What is the first term?\n",
      "  Step 1: The nth term of a geometric sequence is given by $ar^{n-1}$, where a is the first term and r is the common ratio.\n",
      "  Step 2: That's right, so we have the equations $ar^4=7!$ and $ar^7=8!$.\n",
      "  Step 3: Now if we divide these two equations, we get $\\frac{ar^4}{ar^7}=\\frac{7!}{8!}$.\n",
      "  Step 4: That means $r = 2$.\n",
      "  Step 5: Now we can use the equation $ar^4=7!$ to solve for a.\n",
      "  Step 6: $a2^4=7!$, so $a=\\frac{7!}{16}$.\n",
      "  Step 7: So the first term is $\\frac{7!}{16}$.\n",
      "  Step 8: And since $7!=5040$, the first term is $315$.\n",
      "\n",
      "# Answer\n",
      "\n",
      "315\n",
      "----------------------------------------\n"
     ]
    }
   ],
   "source": [
    "formatted_dataset = []\n",
    "\n",
    "for data in dataset[:3]:  # Adjust or remove the slice to process full dataset\n",
    "    question = data['question'][\"problem\"].replace(\"\\\\$\", \"$\")  # Clean latex-style $\n",
    "    steps = []\n",
    "    completions = data['label']['steps']\n",
    "    \n",
    "    for step in completions:\n",
    "        chosen_idx = step.get(\"chosen_completion\")\n",
    "        if chosen_idx is not None:\n",
    "            completions_list = step.get(\"completions\", [])\n",
    "            if 0 <= chosen_idx < len(completions_list):\n",
    "                step_text = completions_list[chosen_idx][\"text\"]\n",
    "                steps.append(step_text)\n",
    "    \n",
    "    formatted_dataset.append({question: steps})\n",
    "\n",
    "# Optional: print preview\n",
    "for item in formatted_dataset:\n",
    "    for q, s in item.items():\n",
    "        print(\"Q:\", q)\n",
    "        for i, step in enumerate(s, 1):\n",
    "            print(f\"  Step {i}: {step}\")\n",
    "        print(\"-\" * 40)\n"
   ]
  },
  {
   "cell_type": "code",
   "execution_count": 69,
   "id": "0f95470a",
   "metadata": {},
   "outputs": [
    {
     "data": {
      "text/plain": [
       "[{'How many seconds are in 7.8 minutes?': ['7.8 minutes is the same as 7 minutes and 0.8 minutes.',\n",
       "   'Right, and since there are 60 seconds in a minute, then there are 60 * 7 = 420 seconds in 7 minutes.',\n",
       "   'And since there are 60 seconds in a minute, then there are 60 * 0.8 = 48 seconds in 0.8 minutes.',\n",
       "   'So, in total, there are 420 + 48 = 468 seconds in 7.8 minutes.',\n",
       "   'Exactly.\\n\\n# Answer\\n\\n468']},\n",
       " {'How many positive two-digit integers leave a remainder of 2 when divided by 8?': [\"So if a number leaves a remainder of 2 when divided by 8, it's of the form 8n+2.\",\n",
       "   'So we want to know the number of positive two-digit integers of the form 8n+2.',\n",
       "   'I think we should just plug in numbers and see what happens.',\n",
       "   \"Ok let's start with n=1.\",\n",
       "   '8*1+2=10 which is a two-digit integer.',\n",
       "   \"Let's try n=2.\",\n",
       "   '8*2+2=18 which is also a two-digit integer.',\n",
       "   'That would be n=13.',\n",
       "   'Because 8*13+2=106.',\n",
       "   'So the number of positive two-digit integers of the form 8n+2 is 12.\\n\\n# Answer\\n\\n12']},\n",
       " {'The fifth and eighth terms of a geometric sequence of real numbers are $7!$ and $8!$ respectively. What is the first term?': ['The nth term of a geometric sequence is given by $ar^{n-1}$, where a is the first term and r is the common ratio.',\n",
       "   \"That's right, so we have the equations $ar^4=7!$ and $ar^7=8!$.\",\n",
       "   'Now if we divide these two equations, we get $\\\\frac{ar^4}{ar^7}=\\\\frac{7!}{8!}$.',\n",
       "   'That means $r = 2$.',\n",
       "   'Now we can use the equation $ar^4=7!$ to solve for a.',\n",
       "   '$a2^4=7!$, so $a=\\\\frac{7!}{16}$.',\n",
       "   'So the first term is $\\\\frac{7!}{16}$.',\n",
       "   'And since $7!=5040$, the first term is $315$.\\n\\n# Answer\\n\\n315']}]"
      ]
     },
     "execution_count": 69,
     "metadata": {},
     "output_type": "execute_result"
    }
   ],
   "source": [
    "formatted_dataset"
   ]
  },
  {
   "cell_type": "code",
   "execution_count": 16,
   "id": "d5ec762c",
   "metadata": {},
   "outputs": [
    {
     "data": {
      "text/plain": [
       "'How many seconds are in 7.8 minutes?'"
      ]
     },
     "execution_count": 16,
     "metadata": {},
     "output_type": "execute_result"
    }
   ],
   "source": [
    "question = d['question'][\"problem\"]\n",
    "question"
   ]
  },
  {
   "cell_type": "code",
   "execution_count": 25,
   "id": "febb30cc",
   "metadata": {},
   "outputs": [
    {
     "data": {
      "text/plain": [
       "[{'completions': [{'text': '7.8 minutes is the same as 7 minutes and 0.8 minutes.',\n",
       "    'rating': 1,\n",
       "    'flagged': False}],\n",
       "  'human_completion': None,\n",
       "  'chosen_completion': 0},\n",
       " {'completions': [{'text': 'Right, and since there are 60 seconds in a minute, then there are 60 * 7 = 420 seconds in 7 minutes.',\n",
       "    'rating': 1,\n",
       "    'flagged': False}],\n",
       "  'human_completion': None,\n",
       "  'chosen_completion': 0},\n",
       " {'completions': [{'text': 'And since there are 60 seconds in a minute, then there are 60 * 0.8 = 48 seconds in 0.8 minutes.',\n",
       "    'rating': 1,\n",
       "    'flagged': False}],\n",
       "  'human_completion': None,\n",
       "  'chosen_completion': 0},\n",
       " {'completions': [{'text': 'So, in total, there are 420 + 48 = 468 seconds in 7.8 minutes.',\n",
       "    'rating': 1,\n",
       "    'flagged': False}],\n",
       "  'human_completion': None,\n",
       "  'chosen_completion': 0},\n",
       " {'completions': [{'text': \"Right. Let's check our work. 7.8 minutes is the same as 7 minutes and 0.8 minutes.\",\n",
       "    'rating': 0,\n",
       "    'flagged': False},\n",
       "   {'text': 'Exactly.\\n\\n# Answer\\n\\n468', 'rating': 1, 'flagged': False},\n",
       "   {'text': \"That's correct.\\n\\n# Answer\\n\\n468\",\n",
       "    'rating': 1,\n",
       "    'flagged': False},\n",
       "   {'text': 'Correct.\\n\\n# Answer\\n\\n468', 'rating': 1, 'flagged': False},\n",
       "   {'text': \"That's correct.\\n\\n# Answer\\n\\n468\",\n",
       "    'rating': 1,\n",
       "    'flagged': False},\n",
       "   {'text': 'Correct.\\n\\n# Answer\\n\\n468', 'rating': 1, 'flagged': False},\n",
       "   {'text': \"That's right!\\n\\n# Answer\\n\\n468\",\n",
       "    'rating': 1,\n",
       "    'flagged': False}],\n",
       "  'human_completion': None,\n",
       "  'chosen_completion': 1}]"
      ]
     },
     "execution_count": 25,
     "metadata": {},
     "output_type": "execute_result"
    }
   ],
   "source": [
    "steps = d['label']['steps']\n",
    "steps"
   ]
  },
  {
   "cell_type": "code",
   "execution_count": 26,
   "id": "3a87e70b",
   "metadata": {},
   "outputs": [
    {
     "data": {
      "text/plain": [
       "'7.8 minutes is the same as 7 minutes and 0.8 minutes.'"
      ]
     },
     "execution_count": 26,
     "metadata": {},
     "output_type": "execute_result"
    }
   ],
   "source": [
    "steps[0]['completions'][0]['text']"
   ]
  },
  {
   "cell_type": "code",
   "execution_count": 28,
   "id": "b28e73b8",
   "metadata": {},
   "outputs": [
    {
     "data": {
      "text/plain": [
       "{'what are you': [1, 2, 3, 4]}"
      ]
     },
     "execution_count": 28,
     "metadata": {},
     "output_type": "execute_result"
    }
   ],
   "source": [
    "question = \"what are you\"\n",
    "answer = [1, 2, 3, 4]\n",
    "dic = {question : answer}\n",
    "dic"
   ]
  },
  {
   "cell_type": "code",
   "execution_count": 10,
   "id": "8994fb4b",
   "metadata": {},
   "outputs": [],
   "source": [
    "import json\n",
    "\n",
    "def read_data(data_path):\n",
    "    with open(data_path, 'r', encoding='utf-8') as f:\n",
    "        dataset = [json.loads(line) for line in f]\n",
    "    return dataset\n",
    "\n",
    "def format_data(data_path):\n",
    "    formatted_dataset = []\n",
    "    dataset = read_data(data_path)\n",
    "    \n",
    "    for data in dataset:  # Remove slice to process full dataset\n",
    "        question = data['question'][\"problem\"].replace(\"\\\\$\", \"$\")  # Clean LaTeX-style $ signs\n",
    "        steps = []\n",
    "        completions = data['label']['steps']\n",
    "        \n",
    "        for step in completions:\n",
    "            chosen_idx = step.get(\"chosen_completion\")\n",
    "            if chosen_idx is not None:\n",
    "                completions_list = step.get(\"completions\", [])\n",
    "                if 0 <= chosen_idx < len(completions_list):\n",
    "                    step_text = completions_list[chosen_idx][\"text\"]\n",
    "                    steps.append(step_text.strip())  # Optional: clean up whitespace\n",
    "\n",
    "        formatted_dataset.append({question: steps})\n",
    "    \n",
    "    return formatted_dataset\n",
    "\n"
   ]
  },
  {
   "cell_type": "code",
   "execution_count": 12,
   "id": "6f5a8de6",
   "metadata": {},
   "outputs": [
    {
     "data": {
      "text/plain": [
       "949"
      ]
     },
     "execution_count": 12,
     "metadata": {},
     "output_type": "execute_result"
    }
   ],
   "source": [
    "data = format_data(\"/home/mony/stepwise_dpo/prm800k/prm800k/data/phase1_train.jsonl\")\n",
    "len(data)"
   ]
  },
  {
   "cell_type": "code",
   "execution_count": null,
   "id": "b8bc2546",
   "metadata": {},
   "outputs": [],
   "source": []
  }
 ],
 "metadata": {
  "kernelspec": {
   "display_name": "venv",
   "language": "python",
   "name": "python3"
  },
  "language_info": {
   "codemirror_mode": {
    "name": "ipython",
    "version": 3
   },
   "file_extension": ".py",
   "mimetype": "text/x-python",
   "name": "python",
   "nbconvert_exporter": "python",
   "pygments_lexer": "ipython3",
   "version": "3.12.3"
  }
 },
 "nbformat": 4,
 "nbformat_minor": 5
}
